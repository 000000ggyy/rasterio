{
 "metadata": {
  "name": "",
  "signature": "sha256:9c5860eecfa65f7a3892acd0ea0bbd0d8bdf4776f00b9d0d406f1df74aa2402c"
 },
 "nbformat": 3,
 "nbformat_minor": 0,
 "worksheets": [
  {
   "cells": [
    {
     "cell_type": "markdown",
     "metadata": {},
     "source": [
      "# An introduction to Rasterio\n",
      "\n",
      "The smallest interesting problems [1] addressed by Rasterio are reading raster data from files as Numpy arrays and writing such arrays back to files. In between, you can use the world of scientific python software to analyze and process the data. Rasterio provides a few operations that are described in the next notebooks.\n",
      "\n",
      "## Structure of a dataset\n",
      "\n",
      "The Scientific Python community often imports numpy as `np`. Do this and also import rasterio."
     ]
    },
    {
     "cell_type": "code",
     "collapsed": false,
     "input": [
      "import numpy as np\n",
      "\n",
      "import rasterio"
     ],
     "language": "python",
     "metadata": {},
     "outputs": [],
     "prompt_number": 1
    },
    {
     "cell_type": "markdown",
     "metadata": {},
     "source": [
      "Now open the GeoTIFF file \"RGB.byte.tif\" using `rasterio.open()`."
     ]
    },
    {
     "cell_type": "code",
     "collapsed": false,
     "input": [
      "src = rasterio.open('../tests/data/RGB.byte.tif')"
     ],
     "language": "python",
     "metadata": {},
     "outputs": [],
     "prompt_number": 2
    },
    {
     "cell_type": "markdown",
     "metadata": {},
     "source": [
      "This function returns a dataset object. It has many of the same properties as a Python file object."
     ]
    },
    {
     "cell_type": "code",
     "collapsed": false,
     "input": [
      "src.name"
     ],
     "language": "python",
     "metadata": {},
     "outputs": [
      {
       "metadata": {},
       "output_type": "pyout",
       "prompt_number": 3,
       "text": [
        "'../tests/data/RGB.byte.tif'"
       ]
      }
     ],
     "prompt_number": 3
    },
    {
     "cell_type": "code",
     "collapsed": false,
     "input": [
      "src.mode"
     ],
     "language": "python",
     "metadata": {},
     "outputs": [
      {
       "metadata": {},
       "output_type": "pyout",
       "prompt_number": 4,
       "text": [
        "'r'"
       ]
      }
     ],
     "prompt_number": 4
    },
    {
     "cell_type": "code",
     "collapsed": false,
     "input": [
      "src.closed"
     ],
     "language": "python",
     "metadata": {},
     "outputs": [
      {
       "metadata": {},
       "output_type": "pyout",
       "prompt_number": 5,
       "text": [
        "False"
       ]
      }
     ],
     "prompt_number": 5
    },
    {
     "cell_type": "markdown",
     "metadata": {},
     "source": [
      "Raster datasets have additional structure and a description can be had from its `meta` property or individually."
     ]
    },
    {
     "cell_type": "code",
     "collapsed": false,
     "input": [
      "src.meta"
     ],
     "language": "python",
     "metadata": {},
     "outputs": [
      {
       "metadata": {},
       "output_type": "pyout",
       "prompt_number": 6,
       "text": [
        "{'affine': Affine(300.0379266750948, 0.0, 101985.0,\n",
        "       0.0, -300.041782729805, 2826915.0),\n",
        " 'count': 3,\n",
        " 'crs': {'init': u'epsg:32618'},\n",
        " 'driver': u'GTiff',\n",
        " 'dtype': 'uint8',\n",
        " 'height': 718,\n",
        " 'nodata': 0.0,\n",
        " 'transform': (101985.0,\n",
        "  300.0379266750948,\n",
        "  0.0,\n",
        "  2826915.0,\n",
        "  0.0,\n",
        "  -300.041782729805),\n",
        " 'width': 791}"
       ]
      }
     ],
     "prompt_number": 6
    },
    {
     "cell_type": "code",
     "collapsed": false,
     "input": [
      "src.crs"
     ],
     "language": "python",
     "metadata": {},
     "outputs": [
      {
       "metadata": {},
       "output_type": "pyout",
       "prompt_number": 7,
       "text": [
        "{'init': u'epsg:32618'}"
       ]
      }
     ],
     "prompt_number": 7
    },
    {
     "cell_type": "markdown",
     "metadata": {},
     "source": [
      "To close an opened dataset, use its `close()` method."
     ]
    },
    {
     "cell_type": "code",
     "collapsed": false,
     "input": [
      "src.close()\n",
      "src.closed"
     ],
     "language": "python",
     "metadata": {},
     "outputs": [
      {
       "metadata": {},
       "output_type": "pyout",
       "prompt_number": 8,
       "text": [
        "True"
       ]
      }
     ],
     "prompt_number": 8
    },
    {
     "cell_type": "markdown",
     "metadata": {},
     "source": [
      "You can't read from or write to a closed dataset, but you can continue access its properties."
     ]
    },
    {
     "cell_type": "code",
     "collapsed": false,
     "input": [
      "src.driver"
     ],
     "language": "python",
     "metadata": {},
     "outputs": [
      {
       "metadata": {},
       "output_type": "pyout",
       "prompt_number": 23,
       "text": [
        "u'GTiff'"
       ]
      }
     ],
     "prompt_number": 23
    },
    {
     "cell_type": "markdown",
     "metadata": {},
     "source": [
      "[1]: Mike Bostock's words from his FOSS4G keynote, 2014-09-10"
     ]
    }
   ],
   "metadata": {}
  }
 ]
}